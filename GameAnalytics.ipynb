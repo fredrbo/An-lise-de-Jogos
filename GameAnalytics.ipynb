{
 "cells": [
  {
   "cell_type": "code",
   "execution_count": 25,
   "metadata": {},
   "outputs": [],
   "source": [
    "import pandas as pd\n",
    "import matplotlib.pyplot as plt"
   ]
  },
  {
   "cell_type": "code",
   "execution_count": 26,
   "metadata": {},
   "outputs": [
    {
     "name": "stdout",
     "output_type": "stream",
     "text": [
      "        Rank                                               Name Platform  \\\n",
      "0          1                                         Wii Sports      Wii   \n",
      "1          2                                  Super Mario Bros.      NES   \n",
      "2          3                                     Mario Kart Wii      Wii   \n",
      "3          4                                  Wii Sports Resort      Wii   \n",
      "4          5                           Pokemon Red/Pokemon Blue       GB   \n",
      "5          6                                             Tetris       GB   \n",
      "6          7                              New Super Mario Bros.       DS   \n",
      "7          8                                           Wii Play      Wii   \n",
      "8          9                          New Super Mario Bros. Wii      Wii   \n",
      "9         10                                          Duck Hunt      NES   \n",
      "10        11                                         Nintendogs       DS   \n",
      "11        12                                      Mario Kart DS       DS   \n",
      "12        13                        Pokemon Gold/Pokemon Silver       GB   \n",
      "13        14                                            Wii Fit      Wii   \n",
      "14        15                                       Wii Fit Plus      Wii   \n",
      "15        16                                 Kinect Adventures!     X360   \n",
      "16        17                                 Grand Theft Auto V      PS3   \n",
      "17        18                      Grand Theft Auto: San Andreas      PS2   \n",
      "18        19                                  Super Mario World     SNES   \n",
      "19        20       Brain Age: Train Your Brain in Minutes a Day       DS   \n",
      "20        21                      Pokemon Diamond/Pokemon Pearl       DS   \n",
      "21        22                                   Super Mario Land       GB   \n",
      "22        23                                Super Mario Bros. 3      NES   \n",
      "23        24                                 Grand Theft Auto V     X360   \n",
      "24        25                        Grand Theft Auto: Vice City      PS2   \n",
      "25        26                      Pokemon Ruby/Pokemon Sapphire      GBA   \n",
      "26        27                        Pokemon Black/Pokemon White       DS   \n",
      "27        28        Brain Age 2: More Training in Minutes a Day       DS   \n",
      "28        29                             Gran Turismo 3: A-Spec      PS2   \n",
      "29        30                     Call of Duty: Modern Warfare 3     X360   \n",
      "...      ...                                                ...      ...   \n",
      "16568  16571                                        XI Coliseum      PSP   \n",
      "16569  16572                                 Resident Evil 4 HD     XOne   \n",
      "16570  16573                      Farming 2017 - The Simulation      PS4   \n",
      "16571  16574         Grisaia no Kajitsu: La Fruit de la Grisaia      PSP   \n",
      "16572  16575                   Scarlett: Nichijou no Kyoukaisen      PS2   \n",
      "16573  16576                                Mini Desktop Racing      Wii   \n",
      "16574  16577  Yattaman Wii: BikkuriDokkiri Machine de Mou Ra...      Wii   \n",
      "16575  16578                              Neo Angelique Special      PSP   \n",
      "16576  16579                                  Rugby Challenge 3     XOne   \n",
      "16577  16580                                          Damnation       PC   \n",
      "16578  16581                      Outdoors Unleashed: Africa 3D      3DS   \n",
      "16579  16582                                  PGA European Tour      N64   \n",
      "16580  16583                                          Real Rode      PS2   \n",
      "16581  16584                                          Fit & Fun      Wii   \n",
      "16582  16585                                    Planet Monsters      GBA   \n",
      "16583  16586                                     Carmageddon 64      N64   \n",
      "16584  16587                                   Bust-A-Move 3000       GC   \n",
      "16585  16588                                             Breach       PC   \n",
      "16586  16589                     Secret Files 2: Puritas Cordis       DS   \n",
      "16587  16590                           Mezase!! Tsuri Master DS       DS   \n",
      "16588  16591                                   Mega Brain Boost       DS   \n",
      "16589  16592  Chou Ezaru wa Akai Hana: Koi wa Tsuki ni Shiru...      PSV   \n",
      "16590  16593  Eiyuu Densetsu: Sora no Kiseki Material Collec...      PSP   \n",
      "16591  16594                                Myst IV: Revelation       PC   \n",
      "16592  16595                                           Plushees       DS   \n",
      "16593  16596                 Woody Woodpecker in Crazy Castle 5      GBA   \n",
      "16594  16597                      Men in Black II: Alien Escape       GC   \n",
      "16595  16598   SCORE International Baja 1000: The Official Game      PS2   \n",
      "16596  16599                                         Know How 2       DS   \n",
      "16597  16600                                   Spirits & Spells      GBA   \n",
      "\n",
      "         Year         Genre                    Publisher  NA_Sales  EU_Sales  \\\n",
      "0      2006.0        Sports                     Nintendo     41.49     29.02   \n",
      "1      1985.0      Platform                     Nintendo     29.08      3.58   \n",
      "2      2008.0        Racing                     Nintendo     15.85     12.88   \n",
      "3      2009.0        Sports                     Nintendo     15.75     11.01   \n",
      "4      1996.0  Role-Playing                     Nintendo     11.27      8.89   \n",
      "5      1989.0        Puzzle                     Nintendo     23.20      2.26   \n",
      "6      2006.0      Platform                     Nintendo     11.38      9.23   \n",
      "7      2006.0          Misc                     Nintendo     14.03      9.20   \n",
      "8      2009.0      Platform                     Nintendo     14.59      7.06   \n",
      "9      1984.0       Shooter                     Nintendo     26.93      0.63   \n",
      "10     2005.0    Simulation                     Nintendo      9.07     11.00   \n",
      "11     2005.0        Racing                     Nintendo      9.81      7.57   \n",
      "12     1999.0  Role-Playing                     Nintendo      9.00      6.18   \n",
      "13     2007.0        Sports                     Nintendo      8.94      8.03   \n",
      "14     2009.0        Sports                     Nintendo      9.09      8.59   \n",
      "15     2010.0          Misc       Microsoft Game Studios     14.97      4.94   \n",
      "16     2013.0        Action         Take-Two Interactive      7.01      9.27   \n",
      "17     2004.0        Action         Take-Two Interactive      9.43      0.40   \n",
      "18     1990.0      Platform                     Nintendo     12.78      3.75   \n",
      "19     2005.0          Misc                     Nintendo      4.75      9.26   \n",
      "20     2006.0  Role-Playing                     Nintendo      6.42      4.52   \n",
      "21     1989.0      Platform                     Nintendo     10.83      2.71   \n",
      "22     1988.0      Platform                     Nintendo      9.54      3.44   \n",
      "23     2013.0        Action         Take-Two Interactive      9.63      5.31   \n",
      "24     2002.0        Action         Take-Two Interactive      8.41      5.49   \n",
      "25     2002.0  Role-Playing                     Nintendo      6.06      3.90   \n",
      "26     2010.0  Role-Playing                     Nintendo      5.57      3.28   \n",
      "27     2005.0        Puzzle                     Nintendo      3.44      5.36   \n",
      "28     2001.0        Racing  Sony Computer Entertainment      6.85      5.09   \n",
      "29     2011.0       Shooter                   Activision      9.03      4.28   \n",
      "...       ...           ...                          ...       ...       ...   \n",
      "16568  2006.0        Puzzle  Sony Computer Entertainment      0.00      0.00   \n",
      "16569  2016.0       Shooter                       Capcom      0.01      0.00   \n",
      "16570  2016.0    Simulation            UIG Entertainment      0.00      0.01   \n",
      "16571  2013.0     Adventure                    Prototype      0.00      0.00   \n",
      "16572  2008.0     Adventure              Kadokawa Shoten      0.00      0.00   \n",
      "16573  2007.0        Racing               Popcorn Arcade      0.01      0.00   \n",
      "16574  2008.0        Racing                  Takara Tomy      0.00      0.00   \n",
      "16575  2008.0     Adventure                   Tecmo Koei      0.00      0.00   \n",
      "16576  2016.0        Sports         Alternative Software      0.00      0.01   \n",
      "16577  2009.0       Shooter                  Codemasters      0.00      0.01   \n",
      "16578  2011.0        Sports                      Mastiff      0.01      0.00   \n",
      "16579  2000.0        Sports                   Infogrames      0.01      0.00   \n",
      "16580  2008.0     Adventure              Kadokawa Shoten      0.00      0.00   \n",
      "16581  2011.0        Sports                      Unknown      0.00      0.01   \n",
      "16582  2001.0        Action                        Titus      0.01      0.00   \n",
      "16583  1999.0        Action           Virgin Interactive      0.01      0.00   \n",
      "16584  2003.0        Puzzle                      Ubisoft      0.01      0.00   \n",
      "16585  2011.0       Shooter                    Destineer      0.01      0.00   \n",
      "16586  2009.0     Adventure                  Deep Silver      0.00      0.01   \n",
      "16587  2009.0        Sports                  Hudson Soft      0.00      0.00   \n",
      "16588  2008.0        Puzzle        Majesco Entertainment      0.01      0.00   \n",
      "16589  2016.0        Action              dramatic create      0.00      0.00   \n",
      "16590  2007.0  Role-Playing           Falcom Corporation      0.00      0.00   \n",
      "16591  2004.0     Adventure                      Ubisoft      0.01      0.00   \n",
      "16592  2008.0    Simulation                    Destineer      0.01      0.00   \n",
      "16593  2002.0      Platform                        Kemco      0.01      0.00   \n",
      "16594  2003.0       Shooter                   Infogrames      0.01      0.00   \n",
      "16595  2008.0        Racing                   Activision      0.00      0.00   \n",
      "16596  2010.0        Puzzle                     7G//AMES      0.00      0.01   \n",
      "16597  2003.0      Platform                      Wanadoo      0.01      0.00   \n",
      "\n",
      "       JP_Sales  Other_Sales  Global_Sales  \n",
      "0          3.77         8.46         82.74  \n",
      "1          6.81         0.77         40.24  \n",
      "2          3.79         3.31         35.82  \n",
      "3          3.28         2.96         33.00  \n",
      "4         10.22         1.00         31.37  \n",
      "5          4.22         0.58         30.26  \n",
      "6          6.50         2.90         30.01  \n",
      "7          2.93         2.85         29.02  \n",
      "8          4.70         2.26         28.62  \n",
      "9          0.28         0.47         28.31  \n",
      "10         1.93         2.75         24.76  \n",
      "11         4.13         1.92         23.42  \n",
      "12         7.20         0.71         23.10  \n",
      "13         3.60         2.15         22.72  \n",
      "14         2.53         1.79         22.00  \n",
      "15         0.24         1.67         21.82  \n",
      "16         0.97         4.14         21.40  \n",
      "17         0.41        10.57         20.81  \n",
      "18         3.54         0.55         20.61  \n",
      "19         4.16         2.05         20.22  \n",
      "20         6.04         1.37         18.36  \n",
      "21         4.18         0.42         18.14  \n",
      "22         3.84         0.46         17.28  \n",
      "23         0.06         1.38         16.38  \n",
      "24         0.47         1.78         16.15  \n",
      "25         5.38         0.50         15.85  \n",
      "26         5.65         0.82         15.32  \n",
      "27         5.32         1.18         15.30  \n",
      "28         1.87         1.16         14.98  \n",
      "29         0.13         1.32         14.76  \n",
      "...         ...          ...           ...  \n",
      "16568      0.01         0.00          0.01  \n",
      "16569      0.00         0.00          0.01  \n",
      "16570      0.00         0.00          0.01  \n",
      "16571      0.01         0.00          0.01  \n",
      "16572      0.01         0.00          0.01  \n",
      "16573      0.00         0.00          0.01  \n",
      "16574      0.01         0.00          0.01  \n",
      "16575      0.01         0.00          0.01  \n",
      "16576      0.00         0.00          0.01  \n",
      "16577      0.00         0.00          0.01  \n",
      "16578      0.00         0.00          0.01  \n",
      "16579      0.00         0.00          0.01  \n",
      "16580      0.01         0.00          0.01  \n",
      "16581      0.00         0.00          0.01  \n",
      "16582      0.00         0.00          0.01  \n",
      "16583      0.00         0.00          0.01  \n",
      "16584      0.00         0.00          0.01  \n",
      "16585      0.00         0.00          0.01  \n",
      "16586      0.00         0.00          0.01  \n",
      "16587      0.01         0.00          0.01  \n",
      "16588      0.00         0.00          0.01  \n",
      "16589      0.01         0.00          0.01  \n",
      "16590      0.01         0.00          0.01  \n",
      "16591      0.00         0.00          0.01  \n",
      "16592      0.00         0.00          0.01  \n",
      "16593      0.00         0.00          0.01  \n",
      "16594      0.00         0.00          0.01  \n",
      "16595      0.00         0.00          0.01  \n",
      "16596      0.00         0.00          0.01  \n",
      "16597      0.00         0.00          0.01  \n",
      "\n",
      "[16598 rows x 11 columns]\n"
     ]
    }
   ],
   "source": [
    "df = pd.read_csv(r'C:/Users/Café/DataGames.csv', engine='python') #Comando usado para ler o arquivo\n",
    "print(df)\n"
   ]
  },
  {
   "cell_type": "code",
   "execution_count": 27,
   "metadata": {},
   "outputs": [],
   "source": [
    "df = df.drop_duplicates() #Remoção das informações duplas\n"
   ]
  },
  {
   "cell_type": "code",
   "execution_count": 28,
   "metadata": {},
   "outputs": [],
   "source": [
    "df =df.dropna() #Remoção das informações NA"
   ]
  },
  {
   "cell_type": "code",
   "execution_count": 29,
   "metadata": {},
   "outputs": [
    {
     "name": "stdout",
     "output_type": "stream",
     "text": [
      "       Mais vendidos                                       Nome do jogo  \\\n",
      "0                  1                                         Wii Sports   \n",
      "1                  2                                  Super Mario Bros.   \n",
      "2                  3                                     Mario Kart Wii   \n",
      "3                  4                                  Wii Sports Resort   \n",
      "4                  5                           Pokemon Red/Pokemon Blue   \n",
      "5                  6                                             Tetris   \n",
      "6                  7                              New Super Mario Bros.   \n",
      "7                  8                                           Wii Play   \n",
      "8                  9                          New Super Mario Bros. Wii   \n",
      "9                 10                                          Duck Hunt   \n",
      "10                11                                         Nintendogs   \n",
      "11                12                                      Mario Kart DS   \n",
      "12                13                        Pokemon Gold/Pokemon Silver   \n",
      "13                14                                            Wii Fit   \n",
      "14                15                                       Wii Fit Plus   \n",
      "15                16                                 Kinect Adventures!   \n",
      "16                17                                 Grand Theft Auto V   \n",
      "17                18                      Grand Theft Auto: San Andreas   \n",
      "18                19                                  Super Mario World   \n",
      "19                20       Brain Age: Train Your Brain in Minutes a Day   \n",
      "20                21                      Pokemon Diamond/Pokemon Pearl   \n",
      "21                22                                   Super Mario Land   \n",
      "22                23                                Super Mario Bros. 3   \n",
      "23                24                                 Grand Theft Auto V   \n",
      "24                25                        Grand Theft Auto: Vice City   \n",
      "25                26                      Pokemon Ruby/Pokemon Sapphire   \n",
      "26                27                        Pokemon Black/Pokemon White   \n",
      "27                28        Brain Age 2: More Training in Minutes a Day   \n",
      "28                29                             Gran Turismo 3: A-Spec   \n",
      "29                30                     Call of Duty: Modern Warfare 3   \n",
      "...              ...                                                ...   \n",
      "16568          16571                                        XI Coliseum   \n",
      "16569          16572                                 Resident Evil 4 HD   \n",
      "16570          16573                      Farming 2017 - The Simulation   \n",
      "16571          16574         Grisaia no Kajitsu: La Fruit de la Grisaia   \n",
      "16572          16575                   Scarlett: Nichijou no Kyoukaisen   \n",
      "16573          16576                                Mini Desktop Racing   \n",
      "16574          16577  Yattaman Wii: BikkuriDokkiri Machine de Mou Ra...   \n",
      "16575          16578                              Neo Angelique Special   \n",
      "16576          16579                                  Rugby Challenge 3   \n",
      "16577          16580                                          Damnation   \n",
      "16578          16581                      Outdoors Unleashed: Africa 3D   \n",
      "16579          16582                                  PGA European Tour   \n",
      "16580          16583                                          Real Rode   \n",
      "16581          16584                                          Fit & Fun   \n",
      "16582          16585                                    Planet Monsters   \n",
      "16583          16586                                     Carmageddon 64   \n",
      "16584          16587                                   Bust-A-Move 3000   \n",
      "16585          16588                                             Breach   \n",
      "16586          16589                     Secret Files 2: Puritas Cordis   \n",
      "16587          16590                           Mezase!! Tsuri Master DS   \n",
      "16588          16591                                   Mega Brain Boost   \n",
      "16589          16592  Chou Ezaru wa Akai Hana: Koi wa Tsuki ni Shiru...   \n",
      "16590          16593  Eiyuu Densetsu: Sora no Kiseki Material Collec...   \n",
      "16591          16594                                Myst IV: Revelation   \n",
      "16592          16595                                           Plushees   \n",
      "16593          16596                 Woody Woodpecker in Crazy Castle 5   \n",
      "16594          16597                      Men in Black II: Alien Escape   \n",
      "16595          16598   SCORE International Baja 1000: The Official Game   \n",
      "16596          16599                                         Know How 2   \n",
      "16597          16600                                   Spirits & Spells   \n",
      "\n",
      "      Plataforma     Ano        Gênero               Desenvolvedora  \\\n",
      "0            Wii  2006.0        Sports                     Nintendo   \n",
      "1            NES  1985.0      Platform                     Nintendo   \n",
      "2            Wii  2008.0        Racing                     Nintendo   \n",
      "3            Wii  2009.0        Sports                     Nintendo   \n",
      "4             GB  1996.0  Role-Playing                     Nintendo   \n",
      "5             GB  1989.0        Puzzle                     Nintendo   \n",
      "6             DS  2006.0      Platform                     Nintendo   \n",
      "7            Wii  2006.0          Misc                     Nintendo   \n",
      "8            Wii  2009.0      Platform                     Nintendo   \n",
      "9            NES  1984.0       Shooter                     Nintendo   \n",
      "10            DS  2005.0    Simulation                     Nintendo   \n",
      "11            DS  2005.0        Racing                     Nintendo   \n",
      "12            GB  1999.0  Role-Playing                     Nintendo   \n",
      "13           Wii  2007.0        Sports                     Nintendo   \n",
      "14           Wii  2009.0        Sports                     Nintendo   \n",
      "15          X360  2010.0          Misc       Microsoft Game Studios   \n",
      "16           PS3  2013.0        Action         Take-Two Interactive   \n",
      "17           PS2  2004.0        Action         Take-Two Interactive   \n",
      "18          SNES  1990.0      Platform                     Nintendo   \n",
      "19            DS  2005.0          Misc                     Nintendo   \n",
      "20            DS  2006.0  Role-Playing                     Nintendo   \n",
      "21            GB  1989.0      Platform                     Nintendo   \n",
      "22           NES  1988.0      Platform                     Nintendo   \n",
      "23          X360  2013.0        Action         Take-Two Interactive   \n",
      "24           PS2  2002.0        Action         Take-Two Interactive   \n",
      "25           GBA  2002.0  Role-Playing                     Nintendo   \n",
      "26            DS  2010.0  Role-Playing                     Nintendo   \n",
      "27            DS  2005.0        Puzzle                     Nintendo   \n",
      "28           PS2  2001.0        Racing  Sony Computer Entertainment   \n",
      "29          X360  2011.0       Shooter                   Activision   \n",
      "...          ...     ...           ...                          ...   \n",
      "16568        PSP  2006.0        Puzzle  Sony Computer Entertainment   \n",
      "16569       XOne  2016.0       Shooter                       Capcom   \n",
      "16570        PS4  2016.0    Simulation            UIG Entertainment   \n",
      "16571        PSP  2013.0     Adventure                    Prototype   \n",
      "16572        PS2  2008.0     Adventure              Kadokawa Shoten   \n",
      "16573        Wii  2007.0        Racing               Popcorn Arcade   \n",
      "16574        Wii  2008.0        Racing                  Takara Tomy   \n",
      "16575        PSP  2008.0     Adventure                   Tecmo Koei   \n",
      "16576       XOne  2016.0        Sports         Alternative Software   \n",
      "16577         PC  2009.0       Shooter                  Codemasters   \n",
      "16578        3DS  2011.0        Sports                      Mastiff   \n",
      "16579        N64  2000.0        Sports                   Infogrames   \n",
      "16580        PS2  2008.0     Adventure              Kadokawa Shoten   \n",
      "16581        Wii  2011.0        Sports                      Unknown   \n",
      "16582        GBA  2001.0        Action                        Titus   \n",
      "16583        N64  1999.0        Action           Virgin Interactive   \n",
      "16584         GC  2003.0        Puzzle                      Ubisoft   \n",
      "16585         PC  2011.0       Shooter                    Destineer   \n",
      "16586         DS  2009.0     Adventure                  Deep Silver   \n",
      "16587         DS  2009.0        Sports                  Hudson Soft   \n",
      "16588         DS  2008.0        Puzzle        Majesco Entertainment   \n",
      "16589        PSV  2016.0        Action              dramatic create   \n",
      "16590        PSP  2007.0  Role-Playing           Falcom Corporation   \n",
      "16591         PC  2004.0     Adventure                      Ubisoft   \n",
      "16592         DS  2008.0    Simulation                    Destineer   \n",
      "16593        GBA  2002.0      Platform                        Kemco   \n",
      "16594         GC  2003.0       Shooter                   Infogrames   \n",
      "16595        PS2  2008.0        Racing                   Activision   \n",
      "16596         DS  2010.0        Puzzle                     7G//AMES   \n",
      "16597        GBA  2003.0      Platform                      Wanadoo   \n",
      "\n",
      "       Vendas na América do norte  Vendas na Europa  Vendas no Japão  \\\n",
      "0                           41.49             29.02             3.77   \n",
      "1                           29.08              3.58             6.81   \n",
      "2                           15.85             12.88             3.79   \n",
      "3                           15.75             11.01             3.28   \n",
      "4                           11.27              8.89            10.22   \n",
      "5                           23.20              2.26             4.22   \n",
      "6                           11.38              9.23             6.50   \n",
      "7                           14.03              9.20             2.93   \n",
      "8                           14.59              7.06             4.70   \n",
      "9                           26.93              0.63             0.28   \n",
      "10                           9.07             11.00             1.93   \n",
      "11                           9.81              7.57             4.13   \n",
      "12                           9.00              6.18             7.20   \n",
      "13                           8.94              8.03             3.60   \n",
      "14                           9.09              8.59             2.53   \n",
      "15                          14.97              4.94             0.24   \n",
      "16                           7.01              9.27             0.97   \n",
      "17                           9.43              0.40             0.41   \n",
      "18                          12.78              3.75             3.54   \n",
      "19                           4.75              9.26             4.16   \n",
      "20                           6.42              4.52             6.04   \n",
      "21                          10.83              2.71             4.18   \n",
      "22                           9.54              3.44             3.84   \n",
      "23                           9.63              5.31             0.06   \n",
      "24                           8.41              5.49             0.47   \n",
      "25                           6.06              3.90             5.38   \n",
      "26                           5.57              3.28             5.65   \n",
      "27                           3.44              5.36             5.32   \n",
      "28                           6.85              5.09             1.87   \n",
      "29                           9.03              4.28             0.13   \n",
      "...                           ...               ...              ...   \n",
      "16568                        0.00              0.00             0.01   \n",
      "16569                        0.01              0.00             0.00   \n",
      "16570                        0.00              0.01             0.00   \n",
      "16571                        0.00              0.00             0.01   \n",
      "16572                        0.00              0.00             0.01   \n",
      "16573                        0.01              0.00             0.00   \n",
      "16574                        0.00              0.00             0.01   \n",
      "16575                        0.00              0.00             0.01   \n",
      "16576                        0.00              0.01             0.00   \n",
      "16577                        0.00              0.01             0.00   \n",
      "16578                        0.01              0.00             0.00   \n",
      "16579                        0.01              0.00             0.00   \n",
      "16580                        0.00              0.00             0.01   \n",
      "16581                        0.00              0.01             0.00   \n",
      "16582                        0.01              0.00             0.00   \n",
      "16583                        0.01              0.00             0.00   \n",
      "16584                        0.01              0.00             0.00   \n",
      "16585                        0.01              0.00             0.00   \n",
      "16586                        0.00              0.01             0.00   \n",
      "16587                        0.00              0.00             0.01   \n",
      "16588                        0.01              0.00             0.00   \n",
      "16589                        0.00              0.00             0.01   \n",
      "16590                        0.00              0.00             0.01   \n",
      "16591                        0.01              0.00             0.00   \n",
      "16592                        0.01              0.00             0.00   \n",
      "16593                        0.01              0.00             0.00   \n",
      "16594                        0.01              0.00             0.00   \n",
      "16595                        0.00              0.00             0.00   \n",
      "16596                        0.00              0.01             0.00   \n",
      "16597                        0.01              0.00             0.00   \n",
      "\n",
      "       Outros locais  Venda Global  \n",
      "0               8.46         82.74  \n",
      "1               0.77         40.24  \n",
      "2               3.31         35.82  \n",
      "3               2.96         33.00  \n",
      "4               1.00         31.37  \n",
      "5               0.58         30.26  \n",
      "6               2.90         30.01  \n",
      "7               2.85         29.02  \n",
      "8               2.26         28.62  \n",
      "9               0.47         28.31  \n",
      "10              2.75         24.76  \n",
      "11              1.92         23.42  \n",
      "12              0.71         23.10  \n",
      "13              2.15         22.72  \n",
      "14              1.79         22.00  \n",
      "15              1.67         21.82  \n",
      "16              4.14         21.40  \n",
      "17             10.57         20.81  \n",
      "18              0.55         20.61  \n",
      "19              2.05         20.22  \n",
      "20              1.37         18.36  \n",
      "21              0.42         18.14  \n",
      "22              0.46         17.28  \n",
      "23              1.38         16.38  \n",
      "24              1.78         16.15  \n",
      "25              0.50         15.85  \n",
      "26              0.82         15.32  \n",
      "27              1.18         15.30  \n",
      "28              1.16         14.98  \n",
      "29              1.32         14.76  \n",
      "...              ...           ...  \n",
      "16568           0.00          0.01  \n",
      "16569           0.00          0.01  \n",
      "16570           0.00          0.01  \n",
      "16571           0.00          0.01  \n",
      "16572           0.00          0.01  \n",
      "16573           0.00          0.01  \n",
      "16574           0.00          0.01  \n",
      "16575           0.00          0.01  \n",
      "16576           0.00          0.01  \n",
      "16577           0.00          0.01  \n",
      "16578           0.00          0.01  \n",
      "16579           0.00          0.01  \n",
      "16580           0.00          0.01  \n",
      "16581           0.00          0.01  \n",
      "16582           0.00          0.01  \n",
      "16583           0.00          0.01  \n",
      "16584           0.00          0.01  \n",
      "16585           0.00          0.01  \n",
      "16586           0.00          0.01  \n",
      "16587           0.00          0.01  \n",
      "16588           0.00          0.01  \n",
      "16589           0.00          0.01  \n",
      "16590           0.00          0.01  \n",
      "16591           0.00          0.01  \n",
      "16592           0.00          0.01  \n",
      "16593           0.00          0.01  \n",
      "16594           0.00          0.01  \n",
      "16595           0.00          0.01  \n",
      "16596           0.00          0.01  \n",
      "16597           0.00          0.01  \n",
      "\n",
      "[16291 rows x 11 columns]\n"
     ]
    }
   ],
   "source": [
    "df = df.rename(columns= {'Rank': 'Mais vendidos',\n",
    "                    'Name':'Nome do jogo',\n",
    "                    'Year':'Ano',\n",
    "                    'Platform':'Plataforma',\n",
    "                    'Genre':'Gênero',\n",
    "                    'Publisher':'Desenvolvedora',\n",
    "                    'NA_Sales':'Vendas na América do norte',\n",
    "                    'EU_Sales':'Vendas na Europa',\n",
    "                    'JP_Sales':'Vendas no Japão',\n",
    "                    'Other_Sales':'Outros locais','Global_Sales':'Venda Global'}) \n",
    "#Renomeação do nome das colunas\n",
    "print (df)"
   ]
  },
  {
   "cell_type": "markdown",
   "metadata": {},
   "source": [
    "# Lista dos 25 Jogos mais vendidos"
   ]
  },
  {
   "cell_type": "code",
   "execution_count": 30,
   "metadata": {},
   "outputs": [
    {
     "data": {
      "text/plain": [
       "0                                       Wii Sports\n",
       "1                                Super Mario Bros.\n",
       "2                                   Mario Kart Wii\n",
       "3                                Wii Sports Resort\n",
       "4                         Pokemon Red/Pokemon Blue\n",
       "5                                           Tetris\n",
       "6                            New Super Mario Bros.\n",
       "7                                         Wii Play\n",
       "8                        New Super Mario Bros. Wii\n",
       "9                                        Duck Hunt\n",
       "10                                      Nintendogs\n",
       "11                                   Mario Kart DS\n",
       "12                     Pokemon Gold/Pokemon Silver\n",
       "13                                         Wii Fit\n",
       "14                                    Wii Fit Plus\n",
       "15                              Kinect Adventures!\n",
       "16                              Grand Theft Auto V\n",
       "17                   Grand Theft Auto: San Andreas\n",
       "18                               Super Mario World\n",
       "19    Brain Age: Train Your Brain in Minutes a Day\n",
       "20                   Pokemon Diamond/Pokemon Pearl\n",
       "21                                Super Mario Land\n",
       "22                             Super Mario Bros. 3\n",
       "23                              Grand Theft Auto V\n",
       "24                     Grand Theft Auto: Vice City\n",
       "Name: Nome do jogo, dtype: object"
      ]
     },
     "execution_count": 30,
     "metadata": {},
     "output_type": "execute_result"
    }
   ],
   "source": [
    "df.head(n=25)['Nome do jogo']"
   ]
  },
  {
   "cell_type": "markdown",
   "metadata": {},
   "source": [
    "# Gêneros mais vendidos"
   ]
  },
  {
   "cell_type": "code",
   "execution_count": 31,
   "metadata": {},
   "outputs": [
    {
     "data": {
      "text/plain": [
       "Action          3251\n",
       "Sports          2304\n",
       "Misc            1686\n",
       "Role-Playing    1470\n",
       "Shooter         1282\n",
       "Adventure       1274\n",
       "Racing          1225\n",
       "Platform         875\n",
       "Simulation       848\n",
       "Fighting         836\n",
       "Strategy         670\n",
       "Puzzle           570\n",
       "Name: Gênero, dtype: int64"
      ]
     },
     "execution_count": 31,
     "metadata": {},
     "output_type": "execute_result"
    }
   ],
   "source": [
    "df[\"Gênero\"].value_counts()"
   ]
  },
  {
   "cell_type": "markdown",
   "metadata": {},
   "source": [
    "# Gráfico dos gêneros mais vendidos"
   ]
  },
  {
   "cell_type": "code",
   "execution_count": 32,
   "metadata": {},
   "outputs": [
    {
     "data": {
      "text/plain": [
       "<matplotlib.axes._subplots.AxesSubplot at 0x1b575bc1588>"
      ]
     },
     "execution_count": 32,
     "metadata": {},
     "output_type": "execute_result"
    },
    {
     "data": {
      "image/png": "[encoded data removed]",
      "text/plain": [
       "<Figure size 576x576 with 1 Axes>"
      ]
     },
     "metadata": {},
     "output_type": "display_data"
    }
   ],
   "source": [
    "df[\"Gênero\"].value_counts().plot.pie(figsize=(8,8)) "
   ]
  },
  {
   "cell_type": "markdown",
   "metadata": {},
   "source": [
    "# Porcentagem das desenvolvedoras com mais jogos na lista no TOP 100"
   ]
  },
  {
   "cell_type": "code",
   "execution_count": 33,
   "metadata": {},
   "outputs": [
    {
     "data": {
      "text/plain": [
       "Nintendo                       52\n",
       "Activision                     14\n",
       "Take-Two Interactive            9\n",
       "Sony Computer Entertainment     8\n",
       "Microsoft Game Studios          6\n",
       "Electronic Arts                 5\n",
       "Ubisoft                         2\n",
       "SquareSoft                      1\n",
       "Sega                            1\n",
       "Atari                           1\n",
       "Bethesda Softworks              1\n",
       "Name: Desenvolvedora, dtype: int64"
      ]
     },
     "execution_count": 33,
     "metadata": {},
     "output_type": "execute_result"
    }
   ],
   "source": [
    "df.head(n=100)['Desenvolvedora'].value_counts()\n",
    "#Analisando os 100 primeiros jogos, podemos observar que a Nintendo está em mais da metade deles"
   ]
  },
  {
   "cell_type": "markdown",
   "metadata": {},
   "source": [
    "# Gráfico das desenvolvedoras com mais jogos na lista no TOP 100"
   ]
  },
  {
   "cell_type": "code",
   "execution_count": 34,
   "metadata": {},
   "outputs": [
    {
     "name": "stdout",
     "output_type": "stream",
     "text": [
      "Porcentagem das desenvolvedoras com mais jogos na lista\n"
     ]
    },
    {
     "data": {
      "text/plain": [
       "<matplotlib.axes._subplots.AxesSubplot at 0x1b575c0abe0>"
      ]
     },
     "execution_count": 34,
     "metadata": {},
     "output_type": "execute_result"
    },
    {
     "data": {
      "image/png": "[encoded data removed]",
      "text/plain": [
       "<Figure size 864x576 with 1 Axes>"
      ]
     },
     "metadata": {
      "needs_background": "light"
     },
     "output_type": "display_data"
    }
   ],
   "source": [
    "print ('Porcentagem das desenvolvedoras com mais jogos na lista')\n",
    "df.head(n=100)['Desenvolvedora'].value_counts().plot.barh(figsize=(12,8))"
   ]
  },
  {
   "cell_type": "code",
   "execution_count": 35,
   "metadata": {},
   "outputs": [
    {
     "data": {
      "text/plain": [
       "X360    16\n",
       "Wii     15\n",
       "DS      13\n",
       "PS3      9\n",
       "3DS      7\n",
       "PS2      6\n",
       "GB       6\n",
       "PS       5\n",
       "PS4      5\n",
       "N64      4\n",
       "SNES     4\n",
       "NES      4\n",
       "GBA      2\n",
       "PSP      1\n",
       "2600     1\n",
       "PC       1\n",
       "XB       1\n",
       "Name: Plataforma, dtype: int64"
      ]
     },
     "execution_count": 35,
     "metadata": {},
     "output_type": "execute_result"
    }
   ],
   "source": [
    "df.head(n=100)['Plataforma'].value_counts()"
   ]
  },
  {
   "cell_type": "markdown",
   "metadata": {},
   "source": [
    "# Gráfico das plataformas que mais venderam do TOP 100"
   ]
  },
  {
   "cell_type": "code",
   "execution_count": 36,
   "metadata": {},
   "outputs": [
    {
     "data": {
      "text/plain": [
       "<matplotlib.axes._subplots.AxesSubplot at 0x1b575bd32b0>"
      ]
     },
     "execution_count": 36,
     "metadata": {},
     "output_type": "execute_result"
    },
    {
     "data": {
      "image/png": "[encoded data removed]",
      "text/plain": [
       "<Figure size 864x576 with 1 Axes>"
      ]
     },
     "metadata": {
      "needs_background": "light"
     },
     "output_type": "display_data"
    }
   ],
   "source": [
    "df.head(n=16597)['Plataforma'].value_counts().plot.bar(figsize=(12,8))"
   ]
  },
  {
   "cell_type": "markdown",
   "metadata": {},
   "source": [
    "# Anos com mais vendas de jogos"
   ]
  },
  {
   "cell_type": "code",
   "execution_count": 37,
   "metadata": {},
   "outputs": [
    {
     "data": {
      "text/plain": [
       "<matplotlib.axes._subplots.AxesSubplot at 0x1b575cb55f8>"
      ]
     },
     "execution_count": 37,
     "metadata": {},
     "output_type": "execute_result"
    },
    {
     "data": {
      "image/png": "[encoded data removed]",
      "text/plain": [
       "<Figure size 1440x720 with 1 Axes>"
      ]
     },
     "metadata": {
      "needs_background": "light"
     },
     "output_type": "display_data"
    }
   ],
   "source": [
    "df.head(n=16597)['Ano'].value_counts().plot.bar(figsize=(20,10)) # Anos com maior quantidade jogos vendidos"
   ]
  }
 ],
 "metadata": {
  "kernelspec": {
   "display_name": "Python 3",
   "language": "python",
   "name": "python3"
  },
  "language_info": {
   "codemirror_mode": {
    "name": "ipython",
    "version": 3
   },
   "file_extension": ".py",
   "mimetype": "text/x-python",
   "name": "python",
   "nbconvert_exporter": "python",
   "pygments_lexer": "ipython3",
   "version": "3.7.0"
  }
 },
 "nbformat": 4,
 "nbformat_minor": 2
}
